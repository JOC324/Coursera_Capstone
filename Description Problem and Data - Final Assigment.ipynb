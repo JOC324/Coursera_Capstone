{
    "cells": [
        {
            "metadata": {
                "collapsed": true
            },
            "cell_type": "markdown",
            "source": "## Description problem and description data - Battle of Neighborhoods in Bogota City"
        },
        {
            "metadata": {},
            "cell_type": "markdown",
            "source": "## 1. Description of the problem and discussion of the background"
        },
        {
            "metadata": {},
            "cell_type": "markdown",
            "source": "        Bogota is the capital city of Colombia, a country in the north of South America continent. This City is the main economic source of this country. Their economic activities represent the 24,5% of the National GDP and is the sixth bigger economic of the region.\n\n        In recent years, the city has become the main tourist destination in the country. Due to this, the city receives national and international tourist each day. Consequently, various economic activities such as restaurants, museums, bars and other places of tourist services have been consolidating as an opportunity of economic growth. \n\n        In this sense, severals companies would like open restaurants as a way to position their brand. In this case, I will try to decide and suggest them where is the best place to locate the business because the city is very large and has several neighborhoods or \u201cLocalidades\u201d (in Spanish) with different economic dynamics.\n \n"
        },
        {
            "metadata": {},
            "cell_type": "markdown",
            "source": "## 2. Description of the data and how it will be used to solve the problem"
        },
        {
            "metadata": {},
            "cell_type": "markdown",
            "source": "    The solution for this problem will be based on two types of information:\n    \n        a.\tGeographical information of the 20 towns (neighborhood or localidades) that make up Bogota: Latitude and Longitude for each neighborhood.\n\n        b.\tInformation about the mean venues for each neighborhood or \u201clocalidad\u201d of Bogota. The source of this information is the Foursquare API, where can be rescued specific data about the venues of each neighborhood and their classification according the type of service. For example: water park, caf\u00e9, dessert shop, gym, etc.\n\n    To solve the problem of this project I try to combine de information of both sources of information. For each neighborhood`s latitude and longitude (source 1) will be extract information of all venues from around.\n    \n    After that, It will calculate a mean for each type of venue for each neighborhood and with this information will be applied the K-means algorithm to cluster all the neighborhoods of the city and deciding which cluster is the better to locate the restaurant. \n"
        },
        {
            "metadata": {},
            "cell_type": "code",
            "source": "",
            "execution_count": null,
            "outputs": []
        }
    ],
    "metadata": {
        "kernelspec": {
            "name": "python3",
            "display_name": "Python 3.6",
            "language": "python"
        },
        "language_info": {
            "name": "python",
            "version": "3.6.9",
            "mimetype": "text/x-python",
            "codemirror_mode": {
                "name": "ipython",
                "version": 3
            },
            "pygments_lexer": "ipython3",
            "nbconvert_exporter": "python",
            "file_extension": ".py"
        }
    },
    "nbformat": 4,
    "nbformat_minor": 1
}